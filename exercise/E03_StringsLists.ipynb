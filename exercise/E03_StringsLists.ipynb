{
 "cells": [
  {
   "cell_type": "markdown",
   "metadata": {},
   "source": [
    "# Workshop: Strings, Lists and Sequences\n",
    "\n",
    "### February 6, 2022"
   ]
  },
  {
   "cell_type": "markdown",
   "metadata": {},
   "source": [
    "## Problem 1: Counting Letters\n",
    "\n",
    "Adapted from Downey Exercise 8.2 (https://greenteapress.com/thinkpython2/html/thinkpython2009.html#sec104)\n",
    "\n",
    "There is a Python built-in string method called `count`. Read the documentation of this method here: https://docs.python.org/3/library/stdtypes.html?highlight=count#str.count\n",
    "\n",
    "Once you have read the documentation, use `count` to write a function `char_count` that takes a string `s` and a character (i.e., a string of length 1) `c`, and returns a non-negative integer corresponding to how many times `c` appears in the string `s`.\n",
    "\n",
    "So, for example, `char_count('banana', 'a')` should return 3, while `char_count('banana', 'z')` should return 0.\n",
    "\n",
    "You should include error checking to make sure that `s` is indeed a string and `c` is indeed a string of length-1, and raise an appropriate error, with an informative error message if not."
   ]
  },
  {
   "cell_type": "code",
   "execution_count": 1,
   "metadata": {},
   "outputs": [
    {
     "name": "stdout",
     "output_type": "stream",
     "text": [
      "Hi\n"
     ]
    },
    {
     "data": {
      "text/plain": [
       "0"
      ]
     },
     "execution_count": 1,
     "metadata": {},
     "output_type": "execute_result"
    }
   ],
   "source": [
    "# Method vs function\n",
    "print('Hi')               # print is a function\n",
    "'cat'.count('Hi', 1, 3 )  # called by a object is a method, \n",
    "                          #. means go inside this object and look for the method and call it\n",
    "                          # range(a, b) b is not inclusive"
   ]
  },
  {
   "cell_type": "code",
   "execution_count": null,
   "metadata": {},
   "outputs": [],
   "source": []
  },
  {
   "cell_type": "code",
   "execution_count": 58,
   "metadata": {},
   "outputs": [],
   "source": [
    "def char_count( s, c ):\n",
    "    # TODO: error checking. Check that s,c are strings; c is length 1.\n",
    "\n",
    "# Solution\n",
    "    # error checking for s\n",
    "    if not isinstance(s, str): # isinstance(object, type)\n",
    "        raise TypeError('Argument s should be a string.') #raise an error\n",
    "    #error checking for c\n",
    "    if not isinstance(c, str):\n",
    "        raise TypeError('Argument c should be a string.') #reason not copy paste code: don't repeate yourself. \n",
    "    if len(c) != 1:\n",
    "        raise ValueError('Argument c shou be a length-1 string')  # NameError, TypeError, ValueError, SyntaxError\n",
    "                                                     #ZeroDivisionError, OSError, RuntimeError,FileNotFoundError\n",
    "    return s.count(c)\n",
    "    \n",
    "    \n",
    " # My code   \n",
    "    \n",
    "    #if type(c) != 'string' and len(c)!=1:\n",
    "       # print('Please enter a string and a character')\n",
    "    #else:\n",
    "        #return s.count(c)"
   ]
  },
  {
   "cell_type": "code",
   "execution_count": 59,
   "metadata": {},
   "outputs": [
    {
     "data": {
      "text/plain": [
       "3"
      ]
     },
     "execution_count": 59,
     "metadata": {},
     "output_type": "execute_result"
    }
   ],
   "source": [
    "char_count('banana','a')"
   ]
  },
  {
   "cell_type": "code",
   "execution_count": 60,
   "metadata": {},
   "outputs": [
    {
     "data": {
      "text/plain": [
       "0"
      ]
     },
     "execution_count": 60,
     "metadata": {},
     "output_type": "execute_result"
    }
   ],
   "source": [
    "char_count('','a')"
   ]
  },
  {
   "cell_type": "code",
   "execution_count": 61,
   "metadata": {},
   "outputs": [
    {
     "ename": "ValueError",
     "evalue": "Argument c shou be a length-1 string",
     "output_type": "error",
     "traceback": [
      "\u001b[0;31m---------------------------------------------------------------------------\u001b[0m",
      "\u001b[0;31mValueError\u001b[0m                                Traceback (most recent call last)",
      "Cell \u001b[0;32mIn[61], line 1\u001b[0m\n\u001b[0;32m----> 1\u001b[0m \u001b[43mchar_count\u001b[49m\u001b[43m(\u001b[49m\u001b[38;5;124;43m'\u001b[39;49m\u001b[38;5;124;43mbanana\u001b[39;49m\u001b[38;5;124;43m'\u001b[39;49m\u001b[43m,\u001b[49m\u001b[38;5;124;43m'\u001b[39;49m\u001b[38;5;124;43mna\u001b[39;49m\u001b[38;5;124;43m'\u001b[39;49m\u001b[43m)\u001b[49m\n",
      "Cell \u001b[0;32mIn[58], line 12\u001b[0m, in \u001b[0;36mchar_count\u001b[0;34m(s, c)\u001b[0m\n\u001b[1;32m     10\u001b[0m     \u001b[38;5;28;01mraise\u001b[39;00m \u001b[38;5;167;01mTypeError\u001b[39;00m(\u001b[38;5;124m'\u001b[39m\u001b[38;5;124mArgument c should be a string.\u001b[39m\u001b[38;5;124m'\u001b[39m) \u001b[38;5;66;03m#reason not copy paste code: don't repeate yourself. \u001b[39;00m\n\u001b[1;32m     11\u001b[0m \u001b[38;5;28;01mif\u001b[39;00m \u001b[38;5;28mlen\u001b[39m(c) \u001b[38;5;241m!=\u001b[39m \u001b[38;5;241m1\u001b[39m:\n\u001b[0;32m---> 12\u001b[0m     \u001b[38;5;28;01mraise\u001b[39;00m \u001b[38;5;167;01mValueError\u001b[39;00m(\u001b[38;5;124m'\u001b[39m\u001b[38;5;124mArgument c shou be a length-1 string\u001b[39m\u001b[38;5;124m'\u001b[39m)  \u001b[38;5;66;03m# NameError, TypeError, ValueError, SyntaxError\u001b[39;00m\n\u001b[1;32m     13\u001b[0m                                                  \u001b[38;5;66;03m#ZeroDivisionError, OSError, RuntimeError,FileNotFoundError\u001b[39;00m\n\u001b[1;32m     14\u001b[0m \u001b[38;5;28;01mreturn\u001b[39;00m s\u001b[38;5;241m.\u001b[39mcount(c)\n",
      "\u001b[0;31mValueError\u001b[0m: Argument c shou be a length-1 string"
     ]
    }
   ],
   "source": [
    "char_count('banana','na')"
   ]
  },
  {
   "cell_type": "markdown",
   "metadata": {},
   "source": [
    "\n",
    "## Problem 2: Any way you slice it\n",
    "\n",
    "Adapted from Downey Exercise 8.3 (https://greenteapress.com/thinkpython2/html/thinkpython2009.html#sec104)\n",
    "\n",
    "In lecture, we saw slice operations for picking out subsequences of strings and lists.\n",
    "\n",
    "We saw that a string slice can take a third index that specifies the “step size”; that is, the number of spaces between successive characters. For example, a step size of 2 means every other character:"
   ]
  },
  {
   "cell_type": "code",
   "execution_count": 4,
   "metadata": {},
   "outputs": [
    {
     "data": {
      "text/plain": [
       "'ace'"
      ]
     },
     "execution_count": 4,
     "metadata": {},
     "output_type": "execute_result"
    }
   ],
   "source": [
    "s = 'abcdefgh'\n",
    "s[0:6:2]"
   ]
  },
  {
   "cell_type": "code",
   "execution_count": 5,
   "metadata": {},
   "outputs": [
    {
     "data": {
      "text/plain": [
       "'ad'"
      ]
     },
     "execution_count": 5,
     "metadata": {},
     "output_type": "execute_result"
    }
   ],
   "source": [
    "s = 'abcdefgh'\n",
    "s[0:6:3]"
   ]
  },
  {
   "cell_type": "markdown",
   "metadata": {},
   "source": [
    "What do you think the following three blocks of code should do? Make predictions, and then run them."
   ]
  },
  {
   "cell_type": "code",
   "execution_count": 62,
   "metadata": {},
   "outputs": [
    {
     "data": {
      "text/plain": [
       "'gec'"
      ]
     },
     "execution_count": 62,
     "metadata": {},
     "output_type": "execute_result"
    }
   ],
   "source": [
    "s = 'abcdefgh'  #??\n",
    "s[6:0:-2]"
   ]
  },
  {
   "cell_type": "code",
   "execution_count": 63,
   "metadata": {},
   "outputs": [
    {
     "data": {
      "text/plain": [
       "''"
      ]
     },
     "execution_count": 63,
     "metadata": {},
     "output_type": "execute_result"
    }
   ],
   "source": [
    "s = 'abcdefgh' #??\n",
    "s[0:6:-2]"
   ]
  },
  {
   "cell_type": "code",
   "execution_count": 64,
   "metadata": {},
   "outputs": [
    {
     "data": {
      "text/plain": [
       "'hgfedcba'"
      ]
     },
     "execution_count": 64,
     "metadata": {},
     "output_type": "execute_result"
    }
   ],
   "source": [
    "s = 'abcdefgh' #??\n",
    "s[::-1]"
   ]
  },
  {
   "cell_type": "markdown",
   "metadata": {},
   "source": [
    "## Problem 3: Caesar salad\n",
    "\n",
    "Adapted from Downey Exercise 8.5 (https://greenteapress.com/thinkpython2/html/thinkpython2009.html#sec104)\n",
    "\n",
    "A Caesar cypher is a weak form of encryption that involves “rotating” each letter by a fixed number of places. To rotate a letter means to shift it through the alphabet, wrapping around to the beginning if necessary, so ’A’ rotated by 3 is ’D’ and ’Z’ rotated by 1 is ’A’.\n",
    "\n",
    "<b>Important:</b> do not use this encryption scheme for anything of actual importance! It is far too easy to break!\n",
    "\n",
    "To rotate a word, rotate each letter by the same amount. For example, “cheer” rotated by 7 is “jolly” and “melon” rotated by -10 is “cubed”. In the movie 2001: A Space Odyssey, the ship computer is called HAL, which is IBM rotated by -1.\n",
    "\n",
    "Write a function called `rotate_word` that takes two arguments, a string `s` and an integer `r` as parameters, and returns a new string that contains the letters from the string `s` rotated by the given amount `r`. Make sure that your function handles the case of `r=0` and the case where `r` is negative.\n",
    "You function should ignore case, treating everything as lower-case, so that `rotate_word('Caesar', 0)` and `rotate_word('CAESAR', 0)` both produce the same output, `'caesar'`.\n",
    "\n",
    "You might want to use the built-in function `ord`, which converts a character to a numeric code, and `chr`, which converts numeric codes to characters. Letters of the alphabet are encoded in alphabetical order, so for example:"
   ]
  },
  {
   "cell_type": "code",
   "execution_count": 18,
   "metadata": {},
   "outputs": [
    {
     "data": {
      "text/plain": [
       "113"
      ]
     },
     "execution_count": 18,
     "metadata": {},
     "output_type": "execute_result"
    }
   ],
   "source": [
    "ord('q')"
   ]
  },
  {
   "cell_type": "code",
   "execution_count": 19,
   "metadata": {},
   "outputs": [
    {
     "data": {
      "text/plain": [
       "81"
      ]
     },
     "execution_count": 19,
     "metadata": {},
     "output_type": "execute_result"
    }
   ],
   "source": [
    "ord('Q')"
   ]
  },
  {
   "cell_type": "code",
   "execution_count": 9,
   "metadata": {},
   "outputs": [
    {
     "data": {
      "text/plain": [
       "'`'"
      ]
     },
     "execution_count": 9,
     "metadata": {},
     "output_type": "execute_result"
    }
   ],
   "source": [
    "chr(96)"
   ]
  },
  {
   "cell_type": "code",
   "execution_count": 20,
   "metadata": {},
   "outputs": [
    {
     "data": {
      "text/plain": [
       "2"
      ]
     },
     "execution_count": 20,
     "metadata": {},
     "output_type": "execute_result"
    }
   ],
   "source": [
    "ord('c') - ord('a')"
   ]
  },
  {
   "cell_type": "code",
   "execution_count": 47,
   "metadata": {},
   "outputs": [
    {
     "data": {
      "text/plain": [
       "122"
      ]
     },
     "execution_count": 47,
     "metadata": {},
     "output_type": "execute_result"
    }
   ],
   "source": [
    "ord('z')"
   ]
  },
  {
   "cell_type": "code",
   "execution_count": 10,
   "metadata": {},
   "outputs": [
    {
     "data": {
      "text/plain": [
       "97"
      ]
     },
     "execution_count": 10,
     "metadata": {},
     "output_type": "execute_result"
    }
   ],
   "source": [
    "ord('a')"
   ]
  },
  {
   "cell_type": "code",
   "execution_count": 13,
   "metadata": {},
   "outputs": [
    {
     "data": {
      "text/plain": [
       "25"
      ]
     },
     "execution_count": 13,
     "metadata": {},
     "output_type": "execute_result"
    }
   ],
   "source": [
    "-1%26"
   ]
  },
  {
   "cell_type": "code",
   "execution_count": 7,
   "metadata": {},
   "outputs": [],
   "source": [
    "def rotate_character(c,r):\n",
    "    offset=(ord(c)-ord('a')+r)%26  \n",
    "    return chr(ord('a')+offset)\n",
    "\n",
    "assert(rotate_character('a',-1)=='z')"
   ]
  },
  {
   "cell_type": "code",
   "execution_count": 8,
   "metadata": {},
   "outputs": [
    {
     "data": {
      "text/plain": [
       "'z'"
      ]
     },
     "execution_count": 8,
     "metadata": {},
     "output_type": "execute_result"
    }
   ],
   "source": [
    "rotate_character('a',-1)"
   ]
  },
  {
   "cell_type": "markdown",
   "metadata": {},
   "source": [
    "Because 'c' is the two-eth letter of the alphabet. But beware: the numeric codes for upper case letters are different."
   ]
  },
  {
   "cell_type": "code",
   "execution_count": 52,
   "metadata": {},
   "outputs": [],
   "source": [
    "def rotate_word( s, r ):\n",
    "    # CODE GOES HERE.\n",
    "    if not isinstance(s,str):\n",
    "        raise TypeError('Argument s should be a string')\n",
    "    if not isinstance(r, int):\n",
    "        raise TypeError('Argument r should be a integer')\n",
    "\n",
    "# solution\n",
    "    # Assume that s is a string of all_lower case\n",
    "    e=''#this will be our encrypted string\n",
    "    for c in s:\n",
    "        # Rotate character c by r\n",
    "        rotated=rotate_character(c,r)\n",
    "        # Add rotated character to the end of e\n",
    "        e+=rotated\n",
    "\n",
    "    return e\n",
    "    \n",
    "    \n",
    "    \n",
    " # my code   \n",
    "   # for i in list(s.lower()):\n",
    "     #   return i\n"
   ]
  },
  {
   "cell_type": "code",
   "execution_count": 57,
   "metadata": {},
   "outputs": [
    {
     "data": {
      "text/plain": [
       "'hal'"
      ]
     },
     "execution_count": 57,
     "metadata": {},
     "output_type": "execute_result"
    }
   ],
   "source": [
    "rotate_word(\"ibm\",-1)"
   ]
  },
  {
   "cell_type": "markdown",
   "metadata": {},
   "source": [
    "## Problem 4: Chopped\n",
    "\n",
    "Adapted from Downey Exercises 10.3 and 10.4 (https://greenteapress.com/thinkpython2/html/thinkpython2011.html#sec128)\n",
    "\n",
    "Write a function called `middle` that takes a list and returns a new list that contains all but the first and last elements. For example: `middle([1, 2, 3, 4])` should return `[2, 3]`.\n",
    "\n",
    "Think about what should happen if `t` is length 2. What if `t` is length 1? Length 0? There are many different ways to handle these edges cases-- decide on one, and defend your choice (at least to yourself)."
   ]
  },
  {
   "cell_type": "code",
   "execution_count": 15,
   "metadata": {},
   "outputs": [
    {
     "ename": "SyntaxError",
     "evalue": "invalid syntax (3051266428.py, line 3)",
     "output_type": "error",
     "traceback": [
      "\u001b[0;36m  Cell \u001b[0;32mIn[15], line 3\u001b[0;36m\u001b[0m\n\u001b[0;31m    TODO: code goes here.\u001b[0m\n\u001b[0m               ^\u001b[0m\n\u001b[0;31mSyntaxError\u001b[0m\u001b[0;31m:\u001b[0m invalid syntax\n"
     ]
    }
   ],
   "source": [
    "#my code\n",
    "def middle( t ):\n",
    "    TODO: code goes here.\n",
    "    if not isinstance(t,list):\n",
    "        raise TypeError('Argument t should be a list')\n",
    "    new_t=[]\n",
    "    new_t.extend([t[0],t[len(t)-1]])\n",
    "    return new_t"
   ]
  },
  {
   "cell_type": "code",
   "execution_count": null,
   "metadata": {},
   "outputs": [],
   "source": [
    "# solution\n",
    "def middle(t):\n",
    "    if not instance(t, list):\n",
    "        raise TypeError('t should be a lits')\n",
    "    if len(t)<=2:\n",
    "        return list()\n",
    "    else:\n",
    "        return t[1,-1]"
   ]
  },
  {
   "cell_type": "code",
   "execution_count": 77,
   "metadata": {},
   "outputs": [
    {
     "data": {
      "text/plain": [
       "['a', 'c']"
      ]
     },
     "execution_count": 77,
     "metadata": {},
     "output_type": "execute_result"
    }
   ],
   "source": [
    "middle(['a','b','c'])"
   ]
  },
  {
   "cell_type": "markdown",
   "metadata": {},
   "source": [
    "Write a function called `chop` that takes a list, modifies it by removing the first and last elements, and returns `None`. For example, if `t = [1, 2, 3, 4]`, then `chop(t)` should not return anything, but after calling `chop(t)`, it should be the case that `t` evaluates to `[2,3]`.\n",
    "\n",
    "Think about what should happen if `t` is length 2. What if `t` is length 1? Length 0? Decide how to handle these edge cases, and implement."
   ]
  },
  {
   "cell_type": "code",
   "execution_count": 16,
   "metadata": {},
   "outputs": [],
   "source": [
    "# mycode\n",
    "def chop( t ):\n",
    "    # CODE GOES HERE.\n",
    "    t.remove(t[0])\n",
    "    t.pop()\n",
    "    return None # I'm putting this here to remind you to not to return anything!"
   ]
  },
  {
   "cell_type": "code",
   "execution_count": null,
   "metadata": {},
   "outputs": [],
   "source": [
    "# solution\n",
    "def chop():\n",
    "    if len(t)==0:\n",
    "        return None\n",
    "    t.pop()\n",
    "    if len(t)>0:\n",
    "        t.pop(0)\n",
    "    return None"
   ]
  },
  {
   "cell_type": "code",
   "execution_count": 17,
   "metadata": {},
   "outputs": [
    {
     "data": {
      "text/plain": [
       "[2, 3]"
      ]
     },
     "execution_count": 17,
     "metadata": {},
     "output_type": "execute_result"
    }
   ],
   "source": [
    "t = [1, 2, 3, 4]\n",
    "chop(t)\n",
    "t"
   ]
  },
  {
   "cell_type": "code",
   "execution_count": null,
   "metadata": {},
   "outputs": [],
   "source": []
  },
  {
   "cell_type": "markdown",
   "metadata": {},
   "source": [
    "## Problem 5: Duplicates\n",
    "\n",
    "Write a function called `has_duplicates` that takes a list as its only argument and returns `True` if there is any element that appears more than once and `False` otherwise. It should not modify the original list."
   ]
  },
  {
   "cell_type": "code",
   "execution_count": 25,
   "metadata": {},
   "outputs": [],
   "source": [
    "# CODE GOES HERE.\n",
    "def has_duplicates(t):\n",
    "    for i in t: # list traversal\n",
    "        c=t.count(i) # count elements in list t\n",
    "        if c >=2:\n",
    "            return  False\n",
    "        else:\n",
    "            return  True"
   ]
  },
  {
   "cell_type": "code",
   "execution_count": 26,
   "metadata": {},
   "outputs": [],
   "source": [
    "# solution\n",
    "def has_duplicates(t):\n",
    "    for i in range(len(t)):\n",
    "        e=t[i]\n",
    "        if e in t[(i+1):]:\n",
    "            return True\n",
    "        return False"
   ]
  },
  {
   "cell_type": "code",
   "execution_count": 28,
   "metadata": {},
   "outputs": [
    {
     "data": {
      "text/plain": [
       "True"
      ]
     },
     "execution_count": 28,
     "metadata": {},
     "output_type": "execute_result"
    }
   ],
   "source": [
    "t = [1, 2, 3, 1]\n",
    "has_duplicates(t)"
   ]
  },
  {
   "cell_type": "code",
   "execution_count": 29,
   "metadata": {},
   "outputs": [],
   "source": [
    "\n",
    "has_duplicates([])"
   ]
  },
  {
   "cell_type": "code",
   "execution_count": null,
   "metadata": {},
   "outputs": [],
   "source": []
  }
 ],
 "metadata": {
  "kernelspec": {
   "display_name": "Python 3 (ipykernel)",
   "language": "python",
   "name": "python3"
  },
  "language_info": {
   "codemirror_mode": {
    "name": "ipython",
    "version": 3
   },
   "file_extension": ".py",
   "mimetype": "text/x-python",
   "name": "python",
   "nbconvert_exporter": "python",
   "pygments_lexer": "ipython3",
   "version": "3.9.7"
  }
 },
 "nbformat": 4,
 "nbformat_minor": 2
}
