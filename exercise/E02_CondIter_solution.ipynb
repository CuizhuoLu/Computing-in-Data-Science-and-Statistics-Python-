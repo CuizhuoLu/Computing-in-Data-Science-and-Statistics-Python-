{
 "cells": [
  {
   "cell_type": "markdown",
   "metadata": {},
   "source": [
    "# Workshop: Conditionals and Iteration\n",
    "\n",
    "### February 01, 2022"
   ]
  },
  {
   "cell_type": "markdown",
   "metadata": {},
   "source": [
    "## Problem 1: travels through `time`\n",
    "\n",
    "Adapted from Downey Exercise 5.1 (https://greenteapress.com/thinkpython2/html/thinkpython2006.html#sec68)\n",
    "\n",
    "The Python `time` module provides a function, also named `time`, that returns the number of seconds since \"the epoch\", which is an arbitrary time used as a reference point. On UNIX systems, the epoch is 1 January 1970. See here for more: https://docs.python.org/3/library/time.html"
   ]
  },
  {
   "cell_type": "code",
   "execution_count": 1,
   "metadata": {},
   "outputs": [
    {
     "data": {
      "text/plain": [
       "1675265997.973057"
      ]
     },
     "execution_count": 1,
     "metadata": {},
     "output_type": "execute_result"
    }
   ],
   "source": [
    "import time\n",
    "time.time()"
   ]
  },
  {
   "cell_type": "markdown",
   "metadata": {},
   "source": [
    "Write a function `my_time` that takes no input and uses the output of `time.time()` to print into a time of day in hours, minutes and seconds, as well as the number of days since the epoch.\n",
    "\n",
    "The precise format of this output isn't important for now.\n",
    "To print a number, you can do something like `print('%d hours' % 10)` to print `'10 hours'`, and `print('%d:%d:%d' % (12,34,56) )` to print `'12:34:56'`."
   ]
  },
  {
   "cell_type": "code",
   "execution_count": 9,
   "metadata": {},
   "outputs": [],
   "source": [
    "def my_time():\n",
    "    seconds_since_epoch = time.time()\n",
    "    # Compute how many minutes since the beginning of time; 60 seconds per minute.\n",
    "    minutes_since_epoch = seconds_since_epoch//60 # Integer division to get rounding down.\n",
    "    seconds = seconds_since_epoch % minutes_since_epoch\n",
    "    # Compute the number of hours\n",
    "    hours_since_epoch = minutes_since_epoch//60\n",
    "    minutes = minutes_since_epoch % hours_since_epoch\n",
    "    # Compute the number of days\n",
    "    days_since_epoch = hours_since_epoch//24\n",
    "    hours = hours_since_epoch % days_since_epoch\n",
    "    print('%d days' % int(days_since_epoch) )\n",
    "    print('%d hours' % int(hours) )\n",
    "    print('%d minutes' % int(minutes) )\n",
    "    print('%d seconds' % int(seconds) )"
   ]
  },
  {
   "cell_type": "code",
   "execution_count": 10,
   "metadata": {},
   "outputs": [
    {
     "name": "stdout",
     "output_type": "stream",
     "text": [
      "19389 days\n",
      "16 hours\n",
      "4 minutes\n",
      "54 seconds\n"
     ]
    }
   ],
   "source": [
    "my_time()"
   ]
  },
  {
   "cell_type": "markdown",
   "metadata": {},
   "source": [
    "## Problem 2: Fermat's Last Theorem\n",
    "\n",
    "Adapted from Downey Exercise 5.2 (https://greenteapress.com/thinkpython2/html/thinkpython2006.html#sec68)\n",
    "\n",
    "[Fermat's Last Theorem](https://en.wikipedia.org/wiki/Fermat%27s_Last_Theorem) says that there are no positive integers $a, b$, and $c$ such that\n",
    "$$ a^n + b^n = c^n $$\n",
    "for any values of $n$ greater than 2.\n",
    "\n",
    "Write a function named `check_fermat` that takes four arguments—`a`, `b`, `c` and `n`—and checks to see if Fermat’s theorem holds. If `n` is greater than 2 and $a^n + b^n = c^n$ the program should print, `'Holy smokes, Fermat was wrong!'` Otherwise the program should print, `'No, that doesn’t work.'`\n",
    "\n",
    "You may assume that all arguments are positive integers."
   ]
  },
  {
   "cell_type": "code",
   "execution_count": 15,
   "metadata": {},
   "outputs": [],
   "source": [
    "def check_fermat(a, b, c, n):\n",
    "    if n <= 2:\n",
    "        print(\"No, that doesn't work\")\n",
    "    elif a**n + b**n == c**n:\n",
    "        print('Holy smokes, Fermat was wrong!')\n",
    "    else:\n",
    "        print(\"No, that doesn't work\")"
   ]
  },
  {
   "cell_type": "code",
   "execution_count": 17,
   "metadata": {},
   "outputs": [
    {
     "name": "stdout",
     "output_type": "stream",
     "text": [
      "No, that doesn't work\n"
     ]
    }
   ],
   "source": [
    "check_fermat( 3,4,5,3 )"
   ]
  },
  {
   "cell_type": "markdown",
   "metadata": {},
   "source": [
    "## Problem 3: making triangles from sticks\n",
    "\n",
    "Adapted from Downey Exercise 5.3 (https://greenteapress.com/thinkpython2/html/thinkpython2006.html#sec68)\n",
    "\n",
    "If you are given three sticks, you may or may not be able to arrange them in a triangle. For example, if one of the sticks is 12 inches long and the other two are each one inch long, you will not be able to get the short sticks to meet to complete the triangle. For any three lengths, there is a simple test to see if it is possible to form a triangle:\n",
    "\n",
    "If any of the three lengths is greater than the sum of the other two, then you cannot form a triangle. Otherwise, you can. (If the sum of two lengths equals the third, they form what is called a “degenerate” triangle, which is really just a line segment.)\n",
    "\n",
    "Write a function named `is_triangle` that takes three integers as arguments, and that returns `True` if you can form a triangle from sticks with the given lengths, and `False` otherwise."
   ]
  },
  {
   "cell_type": "code",
   "execution_count": 20,
   "metadata": {},
   "outputs": [],
   "source": [
    "def is_triangle( a, b, c ):\n",
    "    # Note that there are many different ways to solve this.\n",
    "    # You could check each of the three inequalities separately, for example.\n",
    "    if a+b >= c and a+c >= b and b+c >= a:\n",
    "        return True\n",
    "    else:\n",
    "        return False"
   ]
  },
  {
   "cell_type": "code",
   "execution_count": 31,
   "metadata": {},
   "outputs": [
    {
     "data": {
      "text/plain": [
       "True"
      ]
     },
     "execution_count": 31,
     "metadata": {},
     "output_type": "execute_result"
    }
   ],
   "source": [
    "is_triangle( 3,4,5 )"
   ]
  },
  {
   "cell_type": "code",
   "execution_count": 32,
   "metadata": {},
   "outputs": [
    {
     "data": {
      "text/plain": [
       "True"
      ]
     },
     "execution_count": 32,
     "metadata": {},
     "output_type": "execute_result"
    }
   ],
   "source": [
    "is_triangle( 1,2,3 )"
   ]
  },
  {
   "cell_type": "code",
   "execution_count": 33,
   "metadata": {},
   "outputs": [
    {
     "data": {
      "text/plain": [
       "False"
      ]
     },
     "execution_count": 33,
     "metadata": {},
     "output_type": "execute_result"
    }
   ],
   "source": [
    "is_triangle(1,2,5)"
   ]
  },
  {
   "cell_type": "markdown",
   "metadata": {},
   "source": [
    "## Problem 4: fun with recursion\n",
    "\n",
    "Adapted from Downey Exercise 5.4 (https://greenteapress.com/thinkpython2/html/thinkpython2006.html#sec68)\n",
    "\n",
    "Read the following code. What will be the output of `recurse(3,0)`?"
   ]
  },
  {
   "cell_type": "code",
   "execution_count": 35,
   "metadata": {},
   "outputs": [],
   "source": [
    "def recurse(n, s):\n",
    "    if n == 0:\n",
    "        print(s)\n",
    "    else:\n",
    "        recurse(n-1, n+s)"
   ]
  },
  {
   "cell_type": "code",
   "execution_count": 36,
   "metadata": {},
   "outputs": [
    {
     "name": "stdout",
     "output_type": "stream",
     "text": [
      "6\n"
     ]
    }
   ],
   "source": [
    "# Call: recurse(3,0)\n",
    "# recurse( 2, 3 )\n",
    "# recurse( 1, 5 )\n",
    "# recurse( 0, 6 )\n",
    "recurse(3,0)"
   ]
  },
  {
   "cell_type": "markdown",
   "metadata": {},
   "source": [
    "Once you have settled on a prediction, try running it:"
   ]
  },
  {
   "cell_type": "code",
   "execution_count": 37,
   "metadata": {},
   "outputs": [
    {
     "name": "stdout",
     "output_type": "stream",
     "text": [
      "6\n"
     ]
    }
   ],
   "source": [
    "recurse(3,0)"
   ]
  },
  {
   "cell_type": "markdown",
   "metadata": {},
   "source": [
    "What would happen if you called this function like this: `recurse(-1, 0)`?\n",
    "Once you have settled on a prediction, try it out."
   ]
  },
  {
   "cell_type": "code",
   "execution_count": null,
   "metadata": {},
   "outputs": [],
   "source": [
    "# Call: recurse(-1,0)\n",
    "# recurse( -2, -1 )\n",
    "# recurse( -3, -3 )\n",
    "# recurse( -4, -6 )"
   ]
  },
  {
   "cell_type": "code",
   "execution_count": 38,
   "metadata": {},
   "outputs": [
    {
     "ename": "RecursionError",
     "evalue": "maximum recursion depth exceeded in comparison",
     "output_type": "error",
     "traceback": [
      "\u001b[0;31m---------------------------------------------------------------------------\u001b[0m",
      "\u001b[0;31mRecursionError\u001b[0m                            Traceback (most recent call last)",
      "\u001b[0;32m<ipython-input-38-a1e32d6d7f46>\u001b[0m in \u001b[0;36m<module>\u001b[0;34m()\u001b[0m\n\u001b[0;32m----> 1\u001b[0;31m \u001b[0mrecurse\u001b[0m\u001b[0;34m(\u001b[0m\u001b[0;34m-\u001b[0m\u001b[0;36m1\u001b[0m\u001b[0;34m,\u001b[0m\u001b[0;36m0\u001b[0m\u001b[0;34m)\u001b[0m\u001b[0;34m\u001b[0m\u001b[0m\n\u001b[0m",
      "\u001b[0;32m<ipython-input-35-98871287f3d8>\u001b[0m in \u001b[0;36mrecurse\u001b[0;34m(n, s)\u001b[0m\n\u001b[1;32m      3\u001b[0m         \u001b[0mprint\u001b[0m\u001b[0;34m(\u001b[0m\u001b[0ms\u001b[0m\u001b[0;34m)\u001b[0m\u001b[0;34m\u001b[0m\u001b[0m\n\u001b[1;32m      4\u001b[0m     \u001b[0;32melse\u001b[0m\u001b[0;34m:\u001b[0m\u001b[0;34m\u001b[0m\u001b[0m\n\u001b[0;32m----> 5\u001b[0;31m         \u001b[0mrecurse\u001b[0m\u001b[0;34m(\u001b[0m\u001b[0mn\u001b[0m\u001b[0;34m-\u001b[0m\u001b[0;36m1\u001b[0m\u001b[0;34m,\u001b[0m \u001b[0mn\u001b[0m\u001b[0;34m+\u001b[0m\u001b[0ms\u001b[0m\u001b[0;34m)\u001b[0m\u001b[0;34m\u001b[0m\u001b[0m\n\u001b[0m",
      "... last 1 frames repeated, from the frame below ...\n",
      "\u001b[0;32m<ipython-input-35-98871287f3d8>\u001b[0m in \u001b[0;36mrecurse\u001b[0;34m(n, s)\u001b[0m\n\u001b[1;32m      3\u001b[0m         \u001b[0mprint\u001b[0m\u001b[0;34m(\u001b[0m\u001b[0ms\u001b[0m\u001b[0;34m)\u001b[0m\u001b[0;34m\u001b[0m\u001b[0m\n\u001b[1;32m      4\u001b[0m     \u001b[0;32melse\u001b[0m\u001b[0;34m:\u001b[0m\u001b[0;34m\u001b[0m\u001b[0m\n\u001b[0;32m----> 5\u001b[0;31m         \u001b[0mrecurse\u001b[0m\u001b[0;34m(\u001b[0m\u001b[0mn\u001b[0m\u001b[0;34m-\u001b[0m\u001b[0;36m1\u001b[0m\u001b[0;34m,\u001b[0m \u001b[0mn\u001b[0m\u001b[0;34m+\u001b[0m\u001b[0ms\u001b[0m\u001b[0;34m)\u001b[0m\u001b[0;34m\u001b[0m\u001b[0m\n\u001b[0m",
      "\u001b[0;31mRecursionError\u001b[0m: maximum recursion depth exceeded in comparison"
     ]
    }
   ],
   "source": [
    "recurse(-1,0)"
   ]
  },
  {
   "cell_type": "code",
   "execution_count": null,
   "metadata": {},
   "outputs": [],
   "source": []
  }
 ],
 "metadata": {
  "kernelspec": {
   "display_name": "Python 3 (ipykernel)",
   "language": "python",
   "name": "python3"
  },
  "language_info": {
   "codemirror_mode": {
    "name": "ipython",
    "version": 3
   },
   "file_extension": ".py",
   "mimetype": "text/x-python",
   "name": "python",
   "nbconvert_exporter": "python",
   "pygments_lexer": "ipython3",
   "version": "3.9.7"
  }
 },
 "nbformat": 4,
 "nbformat_minor": 2
}
