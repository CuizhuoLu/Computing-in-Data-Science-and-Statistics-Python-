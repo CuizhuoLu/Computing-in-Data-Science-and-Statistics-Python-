{
 "cells": [
  {
   "cell_type": "markdown",
   "metadata": {},
   "source": [
    "# Workshop: Dictionaries and Tuples\n",
    "\n",
    "### February 8, 2022"
   ]
  },
  {
   "cell_type": "markdown",
   "metadata": {},
   "source": [
    "## Problem 1: Memoization revisited\n",
    "\n",
    "Adapted from Downey Exercise 10.2 (https://greenteapress.com/thinkpython2/html/thinkpython2012.html#sec139)\n",
    "\n",
    "The Ackermann function, $A(m, n)$, is defined as\n",
    "\n",
    "$$ A(m, n) = \\begin{cases}\n",
    "                n+1\t& \\mbox{ if }  m = 0 \\\\\n",
    "                A(m−1, 1) &\\mbox{ if }  m > 0 \\text{ and } n = 0 \\\\\n",
    "                A(m−1, A(m, n−1)) &\\mbox{ if }  m > 0 \\text{ and } n > 0.\n",
    "                \\end{cases}\n",
    "                $$\n",
    "See https://en.wikipedia.org/wiki/Ackermann_function for more information.\n",
    "\n",
    "Write a function named `ack` that takes two non-negative integers, `m` and `n` and returns $A(m,n)$.\n",
    "Include error checking to verify that both arguments are non-negative integers, and raise an appropriate error if not.\n",
    "\n",
    "Use your function to evaluate `ack(3, 4)`, which should be 125.\n",
    "\n",
    "What happens for larger values of `m` and `n`?"
   ]
  },
  {
   "cell_type": "code",
   "execution_count": 1,
   "metadata": {},
   "outputs": [],
   "source": [
    "def ack( m, n):\n",
    "    # TODO: error checking\n",
    "    if not isinstance()\n",
    "    # TODO: code goes here.\n",
    "    if m==0:\n",
    "        return n+1\n",
    "    elif n==0:\n",
    "        return ack(m-1,1)\n",
    "    else:\n",
    "        return ack(m-1,ack(m,n-1))"
   ]
  },
  {
   "cell_type": "code",
   "execution_count": 2,
   "metadata": {},
   "outputs": [
    {
     "data": {
      "text/plain": [
       "125"
      ]
     },
     "execution_count": 2,
     "metadata": {},
     "output_type": "execute_result"
    }
   ],
   "source": [
    "ack(3,4)"
   ]
  },
  {
   "cell_type": "markdown",
   "metadata": {},
   "source": [
    "Now, try memoizing this function, similar to how we memoized the Fibonacci sequence in lecture. Call your new function `A_memo`, which should take the same arguments as `A`."
   ]
  },
  {
   "cell_type": "code",
   "execution_count": 11,
   "metadata": {},
   "outputs": [],
   "source": [
    "known = dict()\n",
    "# my code\n",
    "# def A_memo( m, n ):\n",
    "#     global known # Don't for get this, else A_memo won't know to use the memoization dict!\n",
    "#     if (m,n) in known:\n",
    "#         return known[(m,n)]\n",
    "#     else:\n",
    "#         f=ack(m,n)\n",
    "#         known[(m,n)]=f\n",
    "#         return f\n",
    "    # TODO: code goes here.\n",
    "#solution\n",
    "def A_memo( m, n):\n",
    "    global known\n",
    "    if (m,n) in known:\n",
    "        return known[(m,n)]  #dict.get()\n",
    "    elif m==0:\n",
    "        a=n+1\n",
    "        known[(m,n)]=a\n",
    "        return a \n",
    "    elif n==0:\n",
    "        a=A_memo(m-1,1)\n",
    "        known[(m,n)]=a\n",
    "        return a\n",
    "    else:\n",
    "        a=A_memo(m-1,A_memo(m,n-1))\n",
    "        known[(m,n)]=a\n",
    "        return a"
   ]
  },
  {
   "cell_type": "code",
   "execution_count": 12,
   "metadata": {},
   "outputs": [
    {
     "data": {
      "text/plain": [
       "125"
      ]
     },
     "execution_count": 12,
     "metadata": {},
     "output_type": "execute_result"
    }
   ],
   "source": [
    "A_memo(3,4)"
   ]
  },
  {
   "cell_type": "code",
   "execution_count": 13,
   "metadata": {},
   "outputs": [
    {
     "ename": "RecursionError",
     "evalue": "maximum recursion depth exceeded in comparison",
     "output_type": "error",
     "traceback": [
      "\u001b[0;31m---------------------------------------------------------------------------\u001b[0m",
      "\u001b[0;31mRecursionError\u001b[0m                            Traceback (most recent call last)",
      "Cell \u001b[0;32mIn[13], line 1\u001b[0m\n\u001b[0;32m----> 1\u001b[0m \u001b[43mA_memo\u001b[49m\u001b[43m(\u001b[49m\u001b[38;5;241;43m4\u001b[39;49m\u001b[43m,\u001b[49m\u001b[38;5;241;43m4\u001b[39;49m\u001b[43m)\u001b[49m\n",
      "Cell \u001b[0;32mIn[11], line 26\u001b[0m, in \u001b[0;36mA_memo\u001b[0;34m(m, n)\u001b[0m\n\u001b[1;32m     24\u001b[0m     \u001b[38;5;28;01mreturn\u001b[39;00m a\n\u001b[1;32m     25\u001b[0m \u001b[38;5;28;01melse\u001b[39;00m:\n\u001b[0;32m---> 26\u001b[0m     a\u001b[38;5;241m=\u001b[39mA_memo(m\u001b[38;5;241m-\u001b[39m\u001b[38;5;241m1\u001b[39m,\u001b[43mA_memo\u001b[49m\u001b[43m(\u001b[49m\u001b[43mm\u001b[49m\u001b[43m,\u001b[49m\u001b[43mn\u001b[49m\u001b[38;5;241;43m-\u001b[39;49m\u001b[38;5;241;43m1\u001b[39;49m\u001b[43m)\u001b[49m)\n\u001b[1;32m     27\u001b[0m     known[(m,n)]\u001b[38;5;241m=\u001b[39ma\n\u001b[1;32m     28\u001b[0m     \u001b[38;5;28;01mreturn\u001b[39;00m a\n",
      "Cell \u001b[0;32mIn[11], line 26\u001b[0m, in \u001b[0;36mA_memo\u001b[0;34m(m, n)\u001b[0m\n\u001b[1;32m     24\u001b[0m     \u001b[38;5;28;01mreturn\u001b[39;00m a\n\u001b[1;32m     25\u001b[0m \u001b[38;5;28;01melse\u001b[39;00m:\n\u001b[0;32m---> 26\u001b[0m     a\u001b[38;5;241m=\u001b[39mA_memo(m\u001b[38;5;241m-\u001b[39m\u001b[38;5;241m1\u001b[39m,\u001b[43mA_memo\u001b[49m\u001b[43m(\u001b[49m\u001b[43mm\u001b[49m\u001b[43m,\u001b[49m\u001b[43mn\u001b[49m\u001b[38;5;241;43m-\u001b[39;49m\u001b[38;5;241;43m1\u001b[39;49m\u001b[43m)\u001b[49m)\n\u001b[1;32m     27\u001b[0m     known[(m,n)]\u001b[38;5;241m=\u001b[39ma\n\u001b[1;32m     28\u001b[0m     \u001b[38;5;28;01mreturn\u001b[39;00m a\n",
      "    \u001b[0;31m[... skipping similar frames: A_memo at line 26 (2969 times)]\u001b[0m\n",
      "Cell \u001b[0;32mIn[11], line 26\u001b[0m, in \u001b[0;36mA_memo\u001b[0;34m(m, n)\u001b[0m\n\u001b[1;32m     24\u001b[0m     \u001b[38;5;28;01mreturn\u001b[39;00m a\n\u001b[1;32m     25\u001b[0m \u001b[38;5;28;01melse\u001b[39;00m:\n\u001b[0;32m---> 26\u001b[0m     a\u001b[38;5;241m=\u001b[39mA_memo(m\u001b[38;5;241m-\u001b[39m\u001b[38;5;241m1\u001b[39m,\u001b[43mA_memo\u001b[49m\u001b[43m(\u001b[49m\u001b[43mm\u001b[49m\u001b[43m,\u001b[49m\u001b[43mn\u001b[49m\u001b[38;5;241;43m-\u001b[39;49m\u001b[38;5;241;43m1\u001b[39;49m\u001b[43m)\u001b[49m)\n\u001b[1;32m     27\u001b[0m     known[(m,n)]\u001b[38;5;241m=\u001b[39ma\n\u001b[1;32m     28\u001b[0m     \u001b[38;5;28;01mreturn\u001b[39;00m a\n",
      "Cell \u001b[0;32mIn[11], line 17\u001b[0m, in \u001b[0;36mA_memo\u001b[0;34m(m, n)\u001b[0m\n\u001b[1;32m     15\u001b[0m \u001b[38;5;28;01mif\u001b[39;00m (m,n) \u001b[38;5;129;01min\u001b[39;00m known:\n\u001b[1;32m     16\u001b[0m     \u001b[38;5;28;01mreturn\u001b[39;00m known[(m,n)]  \u001b[38;5;66;03m#dict.get()\u001b[39;00m\n\u001b[0;32m---> 17\u001b[0m \u001b[38;5;28;01melif\u001b[39;00m \u001b[43mm\u001b[49m\u001b[38;5;241;43m==\u001b[39;49m\u001b[38;5;241;43m0\u001b[39;49m:\n\u001b[1;32m     18\u001b[0m     a\u001b[38;5;241m=\u001b[39mn\u001b[38;5;241m+\u001b[39m\u001b[38;5;241m1\u001b[39m\n\u001b[1;32m     19\u001b[0m     known[(m,n)]\u001b[38;5;241m=\u001b[39ma\n",
      "\u001b[0;31mRecursionError\u001b[0m: maximum recursion depth exceeded in comparison"
     ]
    }
   ],
   "source": [
    "A_memo(4,4)"
   ]
  },
  {
   "cell_type": "code",
   "execution_count": null,
   "metadata": {},
   "outputs": [],
   "source": []
  },
  {
   "cell_type": "markdown",
   "metadata": {},
   "source": [
    "Use the `time` module to assess the extent to which your memoized function speeds things up. Explain the reason for the timing that you see."
   ]
  },
  {
   "cell_type": "code",
   "execution_count": 17,
   "metadata": {},
   "outputs": [],
   "source": [
    "import time"
   ]
  },
  {
   "cell_type": "code",
   "execution_count": 20,
   "metadata": {},
   "outputs": [
    {
     "data": {
      "text/plain": [
       "0.006378958225250244"
      ]
     },
     "execution_count": 20,
     "metadata": {},
     "output_type": "execute_result"
    }
   ],
   "source": [
    "# TODO: code goes here for measuring the computation time of the \"naive\" ack"
   ]
  },
  {
   "cell_type": "code",
   "execution_count": 22,
   "metadata": {},
   "outputs": [
    {
     "data": {
      "text/plain": [
       "0.006459300518035889"
      ]
     },
     "execution_count": 22,
     "metadata": {},
     "output_type": "execute_result"
    }
   ],
   "source": [
    "#TODO: code goes here for measuring the computation time of the \"fast\" A_memo"
   ]
  },
  {
   "cell_type": "markdown",
   "metadata": {},
   "source": [
    "\n",
    "## Problem 2: Duplicating duplicates\n",
    "\n",
    "Adapted from Downey Exercise \n",
    "\n",
    "In our previous workshop, we wrote a function `has_duplicates`, which takes a single list as its only argument, and returns a Boolean encoding whether or not the list contains duplicate elements.\n",
    "Use a dictionary to create a faster version of this function."
   ]
  },
  {
   "cell_type": "code",
   "execution_count": 14,
   "metadata": {},
   "outputs": [],
   "source": [
    "def duplicates( t ): # Naive version which looks through the list repeatedly.\n",
    "    for i in range(len(t)):\n",
    "        e = t[i]\n",
    "        if e in t[(i+1):]:\n",
    "            return True # Found a duplicate\n",
    "    # Looked through whole list, found no dups\n",
    "    return False \n",
    "\n",
    "\n",
    "    \n",
    "    # TODO: finish the code."
   ]
  },
  {
   "cell_type": "code",
   "execution_count": 28,
   "metadata": {},
   "outputs": [],
   "source": [
    "def has_duplicates_fast( t ):\n",
    "    #TODO: error checking?\n",
    "    d = dict()\n",
    "    for l in t:\n",
    "        if l in d:\n",
    "            return True\n",
    "        else:\n",
    "            d[(l)]=''   # s=set() \n",
    "    return False"
   ]
  },
  {
   "cell_type": "code",
   "execution_count": 30,
   "metadata": {},
   "outputs": [
    {
     "data": {
      "text/plain": [
       "True"
      ]
     },
     "execution_count": 30,
     "metadata": {},
     "output_type": "execute_result"
    }
   ],
   "source": [
    "has_duplicates_fast(\"ada\")"
   ]
  },
  {
   "cell_type": "markdown",
   "metadata": {},
   "source": [
    "Let's use the `time` module to compare our newer, faster program against our old slow one. To do this, we need a long list to run on, and we need lists both with and without duplicates.\n",
    "\n",
    "Toward that end, write two functions:\n",
    "\n",
    "- `create_nodup_list( n )`: `n` is a non-negative integer. This function should create a list of the integers `0` through `n-1` and then randomize the order of that list. That is, a list of length `n` with no duplicates. Recall that you can do this using `range(n)`.\n",
    "- `create_duped_list( n )`: `n` is a non-negative integer. This function should create a list of the integers `0` through `n-1`, but then choose a random number between 0 and `n-1` inclusive, append that random number to the end of the list, and randomly shuffle the list. Thus, this should return a list of length `n+1` that includes a single duplicated entry.\n",
    "\n",
    "<b>Hint:</b> the Python module `random` includes a function `shuffle` such that if `t` is a list, `random.shuffle(t)` randomly orders the elements of `t` in place. Note that this function doesn't return anything-- it modifies the list `t`. We'll have lots to say about this in a couple of weeks when we talk about functional programming."
   ]
  },
  {
   "cell_type": "code",
   "execution_count": 12,
   "metadata": {},
   "outputs": [
    {
     "name": "stdout",
     "output_type": "stream",
     "text": [
      "[0, 1, 2, 3, 4, 5, 6, 7, 8, 9, 10, 11, 12, 13, 14, 15, 16, 17, 18, 19]\n"
     ]
    },
    {
     "data": {
      "text/plain": [
       "[0, 16, 4, 5, 11, 14, 9, 19, 6, 18, 8, 15, 1, 12, 17, 7, 3, 2, 13, 10]"
      ]
     },
     "execution_count": 12,
     "metadata": {},
     "output_type": "execute_result"
    }
   ],
   "source": [
    "# Example of using the random.shuffle\n",
    "import random\n",
    "t = list( range(20) ) # random.shuffle won't take a range object-- make it a list\n",
    "print( t )\n",
    "random.shuffle( t)\n",
    "t"
   ]
  },
  {
   "cell_type": "code",
   "execution_count": 13,
   "metadata": {},
   "outputs": [],
   "source": [
    "def create_nodup_list( n ):\n",
    "    # CODE GOES HERE; don't forget to update the return statement!\n",
    "    return list()"
   ]
  },
  {
   "cell_type": "code",
   "execution_count": 14,
   "metadata": {},
   "outputs": [],
   "source": [
    "def create_duped_list( n ):\n",
    "    # CODE GOES HERE; don't forget to update the return statement!\n",
    "    return list()"
   ]
  },
  {
   "cell_type": "markdown",
   "metadata": {},
   "source": [
    "Okay, time for the payoff. Use the `time` module to compare our two different implementations of duplicate checking! Which one is better? Try a variety of list lengths-- depending on how fast your computer is, you should start to see a measurable difference once the length is between a few hundred and a few thousand.\n",
    "You may find it useful to repeat the experiment several times and take the average-- `sum(t)/len(t)` computes the mean of a list `t`, provided adding elements of `t` is permitted."
   ]
  },
  {
   "cell_type": "code",
   "execution_count": 15,
   "metadata": {},
   "outputs": [],
   "source": [
    "# CODE GOES HERE."
   ]
  },
  {
   "cell_type": "markdown",
   "metadata": {},
   "source": [
    "## Problem 3: interleaving\n",
    "\n",
    "Write a function called `interleaf(t1,t2)`, where `t1` and `t2` are tuples, and returns a new tuple that is obtained by \"interleaving\" the tuples: we take the first element of `t1` and make it the first element of our new tuple.\n",
    "We take the first element of `t2` and make it the second element of our new tuple.\n",
    "The second element of `t1` becomes the third element of our new tuple, and so on.\n",
    "If we run out of elements from one or the other of tuples `t1` and `t2`, simply append what is left of the other tuple onto the result.\n",
    "Think carefully about what should happen if one or the other tuple is empty.\n",
    "<b>Hint:</b> there is a particularly simple/elegant solution to this problem using recursion.\n",
    "\n",
    "For example, `interleaf( (1,2,3,4), ('a','b') )` should return `(1,'a',2,'b',3,4)`.\n",
    "\n",
    "Your function should check that both `t1` and `t2` are tuples, and raise an appropriate error if not."
   ]
  },
  {
   "cell_type": "code",
   "execution_count": 40,
   "metadata": {},
   "outputs": [],
   "source": [
    "def interleaf( t1, t2 ):\n",
    "    # TODO: code goes here.\n",
    "    # error checking\n",
    "    if len(t1)==0:\n",
    "        return t2\n",
    "    elif len(t2)==0:\n",
    "        return t1\n",
    "    else:\n",
    "        return (t1[0],t2[0])+interleaf(t1[1:],t2[1:])"
   ]
  },
  {
   "cell_type": "code",
   "execution_count": 41,
   "metadata": {},
   "outputs": [
    {
     "ename": "TypeError",
     "evalue": "can only concatenate tuple (not \"list\") to tuple",
     "output_type": "error",
     "traceback": [
      "\u001b[0;31m---------------------------------------------------------------------------\u001b[0m",
      "\u001b[0;31mTypeError\u001b[0m                                 Traceback (most recent call last)",
      "Cell \u001b[0;32mIn[41], line 1\u001b[0m\n\u001b[0;32m----> 1\u001b[0m \u001b[43minterleaf\u001b[49m\u001b[43m(\u001b[49m\u001b[43m \u001b[49m\u001b[43m[\u001b[49m\u001b[38;5;241;43m1\u001b[39;49m\u001b[43m,\u001b[49m\u001b[38;5;241;43m2\u001b[39;49m\u001b[43m,\u001b[49m\u001b[38;5;241;43m3\u001b[39;49m\u001b[43m]\u001b[49m\u001b[43m,\u001b[49m\u001b[43m \u001b[49m\u001b[43m[\u001b[49m\u001b[38;5;124;43m'\u001b[39;49m\u001b[38;5;124;43ma\u001b[39;49m\u001b[38;5;124;43m'\u001b[39;49m\u001b[43m,\u001b[49m\u001b[38;5;124;43m'\u001b[39;49m\u001b[38;5;124;43mb\u001b[39;49m\u001b[38;5;124;43m'\u001b[39;49m\u001b[43m,\u001b[49m\u001b[38;5;124;43m'\u001b[39;49m\u001b[38;5;124;43mc\u001b[39;49m\u001b[38;5;124;43m'\u001b[39;49m\u001b[43m]\u001b[49m\u001b[43m)\u001b[49m\n",
      "Cell \u001b[0;32mIn[40], line 9\u001b[0m, in \u001b[0;36minterleaf\u001b[0;34m(t1, t2)\u001b[0m\n\u001b[1;32m      7\u001b[0m     \u001b[38;5;28;01mreturn\u001b[39;00m t1\n\u001b[1;32m      8\u001b[0m \u001b[38;5;28;01melse\u001b[39;00m:\n\u001b[0;32m----> 9\u001b[0m     \u001b[38;5;28;01mreturn\u001b[39;00m (t1[\u001b[38;5;241m0\u001b[39m],t2[\u001b[38;5;241m0\u001b[39m])\u001b[38;5;241m+\u001b[39m\u001b[43minterleaf\u001b[49m\u001b[43m(\u001b[49m\u001b[43mt1\u001b[49m\u001b[43m[\u001b[49m\u001b[38;5;241;43m1\u001b[39;49m\u001b[43m:\u001b[49m\u001b[43m]\u001b[49m\u001b[43m,\u001b[49m\u001b[43mt2\u001b[49m\u001b[43m[\u001b[49m\u001b[38;5;241;43m1\u001b[39;49m\u001b[43m:\u001b[49m\u001b[43m]\u001b[49m\u001b[43m)\u001b[49m\n",
      "Cell \u001b[0;32mIn[40], line 9\u001b[0m, in \u001b[0;36minterleaf\u001b[0;34m(t1, t2)\u001b[0m\n\u001b[1;32m      7\u001b[0m     \u001b[38;5;28;01mreturn\u001b[39;00m t1\n\u001b[1;32m      8\u001b[0m \u001b[38;5;28;01melse\u001b[39;00m:\n\u001b[0;32m----> 9\u001b[0m     \u001b[38;5;28;01mreturn\u001b[39;00m (t1[\u001b[38;5;241m0\u001b[39m],t2[\u001b[38;5;241m0\u001b[39m])\u001b[38;5;241m+\u001b[39m\u001b[43minterleaf\u001b[49m\u001b[43m(\u001b[49m\u001b[43mt1\u001b[49m\u001b[43m[\u001b[49m\u001b[38;5;241;43m1\u001b[39;49m\u001b[43m:\u001b[49m\u001b[43m]\u001b[49m\u001b[43m,\u001b[49m\u001b[43mt2\u001b[49m\u001b[43m[\u001b[49m\u001b[38;5;241;43m1\u001b[39;49m\u001b[43m:\u001b[49m\u001b[43m]\u001b[49m\u001b[43m)\u001b[49m\n",
      "Cell \u001b[0;32mIn[40], line 9\u001b[0m, in \u001b[0;36minterleaf\u001b[0;34m(t1, t2)\u001b[0m\n\u001b[1;32m      7\u001b[0m     \u001b[38;5;28;01mreturn\u001b[39;00m t1\n\u001b[1;32m      8\u001b[0m \u001b[38;5;28;01melse\u001b[39;00m:\n\u001b[0;32m----> 9\u001b[0m     \u001b[38;5;28;01mreturn\u001b[39;00m \u001b[43m(\u001b[49m\u001b[43mt1\u001b[49m\u001b[43m[\u001b[49m\u001b[38;5;241;43m0\u001b[39;49m\u001b[43m]\u001b[49m\u001b[43m,\u001b[49m\u001b[43mt2\u001b[49m\u001b[43m[\u001b[49m\u001b[38;5;241;43m0\u001b[39;49m\u001b[43m]\u001b[49m\u001b[43m)\u001b[49m\u001b[38;5;241;43m+\u001b[39;49m\u001b[43minterleaf\u001b[49m\u001b[43m(\u001b[49m\u001b[43mt1\u001b[49m\u001b[43m[\u001b[49m\u001b[38;5;241;43m1\u001b[39;49m\u001b[43m:\u001b[49m\u001b[43m]\u001b[49m\u001b[43m,\u001b[49m\u001b[43mt2\u001b[49m\u001b[43m[\u001b[49m\u001b[38;5;241;43m1\u001b[39;49m\u001b[43m:\u001b[49m\u001b[43m]\u001b[49m\u001b[43m)\u001b[49m\n",
      "\u001b[0;31mTypeError\u001b[0m: can only concatenate tuple (not \"list\") to tuple"
     ]
    }
   ],
   "source": [
    "interleaf( [1,2,3], ['a','b','c']) # Should return [1, 'a', 2, 'b', 3, 'c']"
   ]
  },
  {
   "cell_type": "code",
   "execution_count": null,
   "metadata": {},
   "outputs": [],
   "source": []
  }
 ],
 "metadata": {
  "kernelspec": {
   "display_name": "Python 3 (ipykernel)",
   "language": "python",
   "name": "python3"
  },
  "language_info": {
   "codemirror_mode": {
    "name": "ipython",
    "version": 3
   },
   "file_extension": ".py",
   "mimetype": "text/x-python",
   "name": "python",
   "nbconvert_exporter": "python",
   "pygments_lexer": "ipython3",
   "version": "3.9.7"
  }
 },
 "nbformat": 4,
 "nbformat_minor": 2
}
