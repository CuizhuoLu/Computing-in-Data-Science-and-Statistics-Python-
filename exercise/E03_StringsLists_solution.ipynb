{
 "cells": [
  {
   "cell_type": "markdown",
   "metadata": {},
   "source": [
    "# Workshop: Strings, Lists and Sequences\n",
    "\n",
    "### February 6, 2022"
   ]
  },
  {
   "cell_type": "markdown",
   "metadata": {},
   "source": [
    "## Problem 1: Counting Letters\n",
    "\n",
    "Adapted from Downey Exercise 8.2 (https://greenteapress.com/thinkpython2/html/thinkpython2009.html#sec104)\n",
    "\n",
    "There is a Python built-in string method called `count`. Read the documentation of this method here: https://docs.python.org/3/library/stdtypes.html?highlight=count#str.count\n",
    "\n",
    "Once you have read the documentation, use `count` to write a function `char_count` that takes a string `s` and a character (i.e., a string of length 1) `c`, and returns a non-negative integer corresponding to how many times `c` appears in the string `s`.\n",
    "\n",
    "So, for example, `char_count('banana', 'a')` should return 3, while `char_count('banana', 'z')` should return 0.\n",
    "\n",
    "You should include error checking to make sure that `s` is indeed a string and `c` is indeed a string of length-1, and raise an appropriate error, with an informative error message if not."
   ]
  },
  {
   "cell_type": "code",
   "execution_count": 2,
   "metadata": {},
   "outputs": [
    {
     "name": "stdout",
     "output_type": "stream",
     "text": [
      "hello\n"
     ]
    }
   ],
   "source": [
    "# Q: what is the difference between a function and a method?\n",
    "print('hello') # print is a function"
   ]
  },
  {
   "cell_type": "code",
   "execution_count": 8,
   "metadata": {},
   "outputs": [
    {
     "data": {
      "text/plain": [
       "0"
      ]
     },
     "execution_count": 8,
     "metadata": {},
     "output_type": "execute_result"
    }
   ],
   "source": [
    "'concatenate'.count( 'cat', 6 )"
   ]
  },
  {
   "cell_type": "code",
   "execution_count": 13,
   "metadata": {},
   "outputs": [
    {
     "data": {
      "text/plain": [
       "str"
      ]
     },
     "execution_count": 13,
     "metadata": {},
     "output_type": "execute_result"
    }
   ],
   "source": [
    "type('cat')"
   ]
  },
  {
   "cell_type": "code",
   "execution_count": 9,
   "metadata": {},
   "outputs": [],
   "source": [
    "def char_count( s, c ):\n",
    "    # Error checking for s\n",
    "    if not isinstance( s, str ):\n",
    "        raise TypeError('Argument s should be a string.')\n",
    "    # Error checking for c\n",
    "    if not isinstance( c, str ):\n",
    "        raise TypeError('Argument c should be a string.')\n",
    "    if len(c) != 1:\n",
    "        raise ValueError('Argument c should be a length-1 string.')\n",
    "    \n",
    "    return s.count(c)"
   ]
  },
  {
   "cell_type": "code",
   "execution_count": 10,
   "metadata": {},
   "outputs": [
    {
     "data": {
      "text/plain": [
       "3"
      ]
     },
     "execution_count": 10,
     "metadata": {},
     "output_type": "execute_result"
    }
   ],
   "source": [
    "char_count('banana', 'a')"
   ]
  },
  {
   "cell_type": "code",
   "execution_count": 11,
   "metadata": {},
   "outputs": [
    {
     "data": {
      "text/plain": [
       "0"
      ]
     },
     "execution_count": 11,
     "metadata": {},
     "output_type": "execute_result"
    }
   ],
   "source": [
    "char_count('banana', 'z')"
   ]
  },
  {
   "cell_type": "code",
   "execution_count": 12,
   "metadata": {},
   "outputs": [
    {
     "data": {
      "text/plain": [
       "0"
      ]
     },
     "execution_count": 12,
     "metadata": {},
     "output_type": "execute_result"
    }
   ],
   "source": [
    "char_count('', 'a')"
   ]
  },
  {
   "cell_type": "markdown",
   "metadata": {},
   "source": [
    "\n",
    "## Problem 2: Any way you slice it\n",
    "\n",
    "Adapted from Downey Exercise 8.3 (https://greenteapress.com/thinkpython2/html/thinkpython2009.html#sec104)\n",
    "\n",
    "In lecture, we saw slice operations for picking out subsequences of strings and lists.\n",
    "\n",
    "We saw that a string slice can take a third index that specifies the “step size”; that is, the number of spaces between successive characters. For example, a step size of 2 means every other character:"
   ]
  },
  {
   "cell_type": "code",
   "execution_count": 4,
   "metadata": {},
   "outputs": [
    {
     "data": {
      "text/plain": [
       "'ace'"
      ]
     },
     "execution_count": 4,
     "metadata": {},
     "output_type": "execute_result"
    }
   ],
   "source": [
    "s = 'abcdefgh'\n",
    "s[0:6:2]"
   ]
  },
  {
   "cell_type": "code",
   "execution_count": 5,
   "metadata": {},
   "outputs": [
    {
     "data": {
      "text/plain": [
       "'ad'"
      ]
     },
     "execution_count": 5,
     "metadata": {},
     "output_type": "execute_result"
    }
   ],
   "source": [
    "s = 'abcdefgh'\n",
    "s[0:6:3]"
   ]
  },
  {
   "cell_type": "markdown",
   "metadata": {},
   "source": [
    "What do you think the following three blocks of code should do? Make predictions, and then run them."
   ]
  },
  {
   "cell_type": "code",
   "execution_count": 15,
   "metadata": {},
   "outputs": [
    {
     "data": {
      "text/plain": [
       "'gec'"
      ]
     },
     "execution_count": 15,
     "metadata": {},
     "output_type": "execute_result"
    }
   ],
   "source": [
    "s = 'abcdefgh'\n",
    "s[6:0:-2]"
   ]
  },
  {
   "cell_type": "code",
   "execution_count": 16,
   "metadata": {},
   "outputs": [
    {
     "data": {
      "text/plain": [
       "''"
      ]
     },
     "execution_count": 16,
     "metadata": {},
     "output_type": "execute_result"
    }
   ],
   "source": [
    "s = 'abcdefgh'\n",
    "s[0:6:-2]"
   ]
  },
  {
   "cell_type": "code",
   "execution_count": 17,
   "metadata": {},
   "outputs": [
    {
     "data": {
      "text/plain": [
       "'hgfedcba'"
      ]
     },
     "execution_count": 17,
     "metadata": {},
     "output_type": "execute_result"
    }
   ],
   "source": [
    "s = 'abcdefgh'\n",
    "s[::-1]"
   ]
  },
  {
   "cell_type": "markdown",
   "metadata": {},
   "source": [
    "## Problem 3: Caesar salad\n",
    "\n",
    "Adapted from Downey Exercise 8.5 (https://greenteapress.com/thinkpython2/html/thinkpython2009.html#sec104)\n",
    "\n",
    "A Caesar cypher is a weak form of encryption that involves “rotating” each letter by a fixed number of places. To rotate a letter means to shift it through the alphabet, wrapping around to the beginning if necessary, so ’A’ rotated by 3 is ’D’ and ’Z’ rotated by 1 is ’A’.\n",
    "\n",
    "<b>Important:</b> do not use this encryption scheme for anything of actual importance! It is far too easy to break!\n",
    "\n",
    "To rotate a word, rotate each letter by the same amount. For example, “cheer” rotated by 7 is “jolly” and “melon” rotated by -10 is “cubed”. In the movie 2001: A Space Odyssey, the ship computer is called HAL, which is IBM rotated by -1.\n",
    "\n",
    "Write a function called `rotate_word` that takes two arguments, a string `s` and an integer `r` as parameters, and returns a new string that contains the letters from the string `s` rotated by the given amount `r`. Make sure that your function handles the case of `r=0` and the case where `r` is negative.\n",
    "Your function should ignore case, treating everything as lower-case, so that `rotate_word('Caesar', 0)` and `rotate_word('CAESAR', 0)` both produce the same output, `'caesar'`.\n",
    "\n",
    "You might want to use the built-in function `ord`, which converts a character to a numeric code, and `chr`, which converts numeric codes to characters. Letters of the alphabet are encoded in alphabetical order, so for example:"
   ]
  },
  {
   "cell_type": "code",
   "execution_count": 1,
   "metadata": {},
   "outputs": [
    {
     "data": {
      "text/plain": [
       "113"
      ]
     },
     "execution_count": 1,
     "metadata": {},
     "output_type": "execute_result"
    }
   ],
   "source": [
    "ord('q')"
   ]
  },
  {
   "cell_type": "code",
   "execution_count": 2,
   "metadata": {},
   "outputs": [
    {
     "data": {
      "text/plain": [
       "'q'"
      ]
     },
     "execution_count": 2,
     "metadata": {},
     "output_type": "execute_result"
    }
   ],
   "source": [
    "chr(113)"
   ]
  },
  {
   "cell_type": "code",
   "execution_count": 3,
   "metadata": {},
   "outputs": [
    {
     "data": {
      "text/plain": [
       "2"
      ]
     },
     "execution_count": 3,
     "metadata": {},
     "output_type": "execute_result"
    }
   ],
   "source": [
    "ord('c') - ord('a')"
   ]
  },
  {
   "cell_type": "markdown",
   "metadata": {},
   "source": [
    "Because 'c' is the two-eth letter of the alphabet. But beware: the numeric codes for upper case letters are different."
   ]
  },
  {
   "cell_type": "code",
   "execution_count": 14,
   "metadata": {},
   "outputs": [
    {
     "data": {
      "text/plain": [
       "'}'"
      ]
     },
     "execution_count": 14,
     "metadata": {},
     "output_type": "execute_result"
    }
   ],
   "source": [
    "# Caution: be careful rotating\n",
    "chr( ord('z') + 3)"
   ]
  },
  {
   "cell_type": "code",
   "execution_count": 2,
   "metadata": {},
   "outputs": [],
   "source": [
    "def rotate_char( c, r ):\n",
    "    '''\n",
    "    Rotate lower-case character c by integer r.\n",
    "    Assume that c is a length-1 string, lower-case alphabetic character and that r is an integer.\n",
    "    '''\n",
    "    \n",
    "    # Note: ideally, we would do some error checking here,\n",
    "    # but since we're only calling this in rotate_word below,\n",
    "    # we can be quite confident that c is a character and r is an int.\n",
    "    \n",
    "    # Now we CAN'T just naively call chr( ord('z')+r), for the reason above.\n",
    "    # We need to be careful not to \"run off the end of the alphabet\"\n",
    "    # We are assuming that c is one of 'a','b',...'x','y','z'.\n",
    "    # So let's look at the *difference* between our character's encoding and ord('a'), and work accordingly.\n",
    "    offset = (ord(c) - ord('a') + r) % 26 # 26 letters in the alphabet\n",
    "    return chr( ord('a') + offset)\n",
    "\n",
    "# Test our code. assert( expr ) raises an error if expr doesn't evaluate to True.\n",
    "assert( rotate_char('a',0)=='a')\n",
    "assert( rotate_char('a',3)=='d')\n",
    "assert( rotate_char('z',1)=='a')\n",
    "assert( rotate_char('a',-1)=='z')\n",
    "assert( rotate_char('i',-1)=='h')"
   ]
  },
  {
   "cell_type": "code",
   "execution_count": 34,
   "metadata": {},
   "outputs": [],
   "source": [
    "def rotate_word( s, r ):\n",
    "    if not isinstance( s, str ):\n",
    "        raise TypeError('s should be a string.')\n",
    "    # TODO: ideally, verify that s is lower-case or force it to lower-case.\n",
    "    # Refer to Python string documentation for details on how to do that.\n",
    "    if not isinstance( r, int ):\n",
    "        raise TypeError('r should be an integer.')\n",
    "    \n",
    "    # Assume that s is a string of all lower-case.\n",
    "    e = '' # This will be our encrypted string\n",
    "    for c in s:\n",
    "        # Rotate character c by r\n",
    "        rotc = rotate_char( c, r )        \n",
    "        # Add rotated character to the end of e.\n",
    "        e += rotc # sequence-like data, like strings, can be \"added\" to perform concatenation.\n",
    "    return e"
   ]
  },
  {
   "cell_type": "code",
   "execution_count": 35,
   "metadata": {},
   "outputs": [
    {
     "data": {
      "text/plain": [
       "'ibm'"
      ]
     },
     "execution_count": 35,
     "metadata": {},
     "output_type": "execute_result"
    }
   ],
   "source": [
    "rotate_word( 'hal', 1 )"
   ]
  },
  {
   "cell_type": "code",
   "execution_count": 36,
   "metadata": {},
   "outputs": [
    {
     "data": {
      "text/plain": [
       "'jolly'"
      ]
     },
     "execution_count": 36,
     "metadata": {},
     "output_type": "execute_result"
    }
   ],
   "source": [
    "rotate_word( 'cheer', 7)"
   ]
  },
  {
   "cell_type": "code",
   "execution_count": 37,
   "metadata": {},
   "outputs": [
    {
     "data": {
      "text/plain": [
       "'caesar'"
      ]
     },
     "execution_count": 37,
     "metadata": {},
     "output_type": "execute_result"
    }
   ],
   "source": [
    "rotate_word( 'caesar', 0 )"
   ]
  },
  {
   "cell_type": "code",
   "execution_count": 38,
   "metadata": {},
   "outputs": [
    {
     "ename": "TypeError",
     "evalue": "s should be a string.",
     "output_type": "error",
     "traceback": [
      "\u001b[0;31m---------------------------------------------------------------------------\u001b[0m",
      "\u001b[0;31mTypeError\u001b[0m                                 Traceback (most recent call last)",
      "\u001b[0;32m<ipython-input-38-aac8b6104402>\u001b[0m in \u001b[0;36m<module>\u001b[0;34m()\u001b[0m\n\u001b[0;32m----> 1\u001b[0;31m \u001b[0mrotate_word\u001b[0m\u001b[0;34m(\u001b[0m \u001b[0;36m10\u001b[0m\u001b[0;34m,\u001b[0m \u001b[0;36m0\u001b[0m\u001b[0;34m)\u001b[0m\u001b[0;34m\u001b[0m\u001b[0m\n\u001b[0m",
      "\u001b[0;32m<ipython-input-34-2d25fa774041>\u001b[0m in \u001b[0;36mrotate_word\u001b[0;34m(s, r)\u001b[0m\n\u001b[1;32m      1\u001b[0m \u001b[0;32mdef\u001b[0m \u001b[0mrotate_word\u001b[0m\u001b[0;34m(\u001b[0m \u001b[0ms\u001b[0m\u001b[0;34m,\u001b[0m \u001b[0mr\u001b[0m \u001b[0;34m)\u001b[0m\u001b[0;34m:\u001b[0m\u001b[0;34m\u001b[0m\u001b[0m\n\u001b[1;32m      2\u001b[0m     \u001b[0;32mif\u001b[0m \u001b[0;32mnot\u001b[0m \u001b[0misinstance\u001b[0m\u001b[0;34m(\u001b[0m \u001b[0ms\u001b[0m\u001b[0;34m,\u001b[0m \u001b[0mstr\u001b[0m \u001b[0;34m)\u001b[0m\u001b[0;34m:\u001b[0m\u001b[0;34m\u001b[0m\u001b[0m\n\u001b[0;32m----> 3\u001b[0;31m         \u001b[0;32mraise\u001b[0m \u001b[0mTypeError\u001b[0m\u001b[0;34m(\u001b[0m\u001b[0;34m's should be a string.'\u001b[0m\u001b[0;34m)\u001b[0m\u001b[0;34m\u001b[0m\u001b[0m\n\u001b[0m\u001b[1;32m      4\u001b[0m     \u001b[0;31m# TODO: ideally, verify that s is lower-case or force it to lower-case.\u001b[0m\u001b[0;34m\u001b[0m\u001b[0;34m\u001b[0m\u001b[0m\n\u001b[1;32m      5\u001b[0m     \u001b[0;31m# Refer to Python string documentation for details on how to do that.\u001b[0m\u001b[0;34m\u001b[0m\u001b[0;34m\u001b[0m\u001b[0m\n",
      "\u001b[0;31mTypeError\u001b[0m: s should be a string."
     ]
    }
   ],
   "source": [
    "rotate_word( 10, 0)"
   ]
  },
  {
   "cell_type": "code",
   "execution_count": 40,
   "metadata": {},
   "outputs": [
    {
     "ename": "TypeError",
     "evalue": "r should be an integer.",
     "output_type": "error",
     "traceback": [
      "\u001b[0;31m---------------------------------------------------------------------------\u001b[0m",
      "\u001b[0;31mTypeError\u001b[0m                                 Traceback (most recent call last)",
      "\u001b[0;32m<ipython-input-40-342125e138c8>\u001b[0m in \u001b[0;36m<module>\u001b[0;34m()\u001b[0m\n\u001b[0;32m----> 1\u001b[0;31m \u001b[0mrotate_word\u001b[0m\u001b[0;34m(\u001b[0m \u001b[0;34m'ibm'\u001b[0m\u001b[0;34m,\u001b[0m \u001b[0;34m'hal'\u001b[0m\u001b[0;34m)\u001b[0m\u001b[0;34m\u001b[0m\u001b[0m\n\u001b[0m",
      "\u001b[0;32m<ipython-input-34-2d25fa774041>\u001b[0m in \u001b[0;36mrotate_word\u001b[0;34m(s, r)\u001b[0m\n\u001b[1;32m      5\u001b[0m     \u001b[0;31m# Refer to Python string documentation for details on how to do that.\u001b[0m\u001b[0;34m\u001b[0m\u001b[0;34m\u001b[0m\u001b[0m\n\u001b[1;32m      6\u001b[0m     \u001b[0;32mif\u001b[0m \u001b[0;32mnot\u001b[0m \u001b[0misinstance\u001b[0m\u001b[0;34m(\u001b[0m \u001b[0mr\u001b[0m\u001b[0;34m,\u001b[0m \u001b[0mint\u001b[0m \u001b[0;34m)\u001b[0m\u001b[0;34m:\u001b[0m\u001b[0;34m\u001b[0m\u001b[0m\n\u001b[0;32m----> 7\u001b[0;31m         \u001b[0;32mraise\u001b[0m \u001b[0mTypeError\u001b[0m\u001b[0;34m(\u001b[0m\u001b[0;34m'r should be an integer.'\u001b[0m\u001b[0;34m)\u001b[0m\u001b[0;34m\u001b[0m\u001b[0m\n\u001b[0m\u001b[1;32m      8\u001b[0m \u001b[0;34m\u001b[0m\u001b[0m\n\u001b[1;32m      9\u001b[0m     \u001b[0;31m# Assume that s is a string of all lower-case.\u001b[0m\u001b[0;34m\u001b[0m\u001b[0;34m\u001b[0m\u001b[0m\n",
      "\u001b[0;31mTypeError\u001b[0m: r should be an integer."
     ]
    }
   ],
   "source": [
    "rotate_word( 'ibm', 'hal')"
   ]
  },
  {
   "cell_type": "markdown",
   "metadata": {},
   "source": [
    "## Problem 4: Chopped\n",
    "\n",
    "Adapted from Downey Exercises 10.3 and 10.4 (https://greenteapress.com/thinkpython2/html/thinkpython2011.html#sec128)\n",
    "\n",
    "Write a function called `middle` that takes a list and returns a new list that contains all but the first and last elements. For example: `middle([1, 2, 3, 4])` should return `[2, 3]`.\n",
    "\n",
    "Think about what should happen if `t` is length 2. What if `t` is length 1? Length 0? There are many different ways to handle these edges cases-- decide on one, and defend your choice (at least to yourself)."
   ]
  },
  {
   "cell_type": "code",
   "execution_count": 46,
   "metadata": {},
   "outputs": [],
   "source": [
    "def middle( t ):\n",
    "    if not isinstance(t, list):\n",
    "        # Note: we'll see later that this code actually will work sensibly for any sequence-like\n",
    "        # data, so this error checking is perhaps too stringent.\n",
    "        # For example, try deleting this error checking and calling middle( 'cat' ).\n",
    "        raise TypeError('t should be a list')\n",
    "    if len( t ) <= 2:\n",
    "        # t is the empty list, a singleton or a length-2 list,\n",
    "        # in which case removing the first and last elements leaves the empty list.\n",
    "        return list()\n",
    "    else:\n",
    "        return t[1:-1] # Reminder: -1 indexes the last element, so :-1 means \"all but the last element\""
   ]
  },
  {
   "cell_type": "code",
   "execution_count": 47,
   "metadata": {},
   "outputs": [
    {
     "data": {
      "text/plain": [
       "[]"
      ]
     },
     "execution_count": 47,
     "metadata": {},
     "output_type": "execute_result"
    }
   ],
   "source": [
    "middle([1])"
   ]
  },
  {
   "cell_type": "code",
   "execution_count": 48,
   "metadata": {},
   "outputs": [
    {
     "data": {
      "text/plain": [
       "[]"
      ]
     },
     "execution_count": 48,
     "metadata": {},
     "output_type": "execute_result"
    }
   ],
   "source": [
    "middle([1,2])"
   ]
  },
  {
   "cell_type": "code",
   "execution_count": 50,
   "metadata": {},
   "outputs": [
    {
     "data": {
      "text/plain": [
       "[2]"
      ]
     },
     "execution_count": 50,
     "metadata": {},
     "output_type": "execute_result"
    }
   ],
   "source": [
    "middle([1,2,3])"
   ]
  },
  {
   "cell_type": "code",
   "execution_count": 51,
   "metadata": {},
   "outputs": [
    {
     "data": {
      "text/plain": [
       "[2, 3]"
      ]
     },
     "execution_count": 51,
     "metadata": {},
     "output_type": "execute_result"
    }
   ],
   "source": [
    "middle([1,2,3,4])"
   ]
  },
  {
   "cell_type": "markdown",
   "metadata": {},
   "source": [
    "Write a function called `chop` that takes a list, modifies it by removing the first and last elements, and returns `None`. For example, if `t = [1, 2, 3, 4]`, then `chop(t)` should not return anything, but after calling `chop(t)`, it should be the case that `t` evaluates to `[2,3]`.\n",
    "\n",
    "Think about what should happen if `t` is length 2. What if `t` is length 1? Length 0? Decide how to handle these edge cases, and implement."
   ]
  },
  {
   "cell_type": "code",
   "execution_count": 68,
   "metadata": {},
   "outputs": [],
   "source": [
    "def chop( t ):\n",
    "    '''\n",
    "    Note that this is doing the same thing as middle() above, but it's modifying t in place\n",
    "    instead of creating a new list. \n",
    "    \n",
    "    As will often be the case in this course, this is far from the only way to solve this problem;\n",
    "    the solution here is meant to illustrate another method, this one supported by list objects.\n",
    "    In particular, we're using the pop() method.\n",
    "    \n",
    "    See documentation about the list.pop() method here:\n",
    "    https://docs.python.org/3/tutorial/datastructures.html#more-on-lists\n",
    "    '''\n",
    "    \n",
    "    if len(t) == 0:\n",
    "        # If t is empty, there's nothing to do.\n",
    "        return None\n",
    "    # Removes and returns the last elemnt of t.\n",
    "    # We don't care what the element is, so we aren't storing it anywhere.\n",
    "    t.pop() \n",
    "    if len(t) > 0:\n",
    "        # If len(t)==1, after t.pop() above we've done, and calling t.pop() again would be an error.\n",
    "        # We poppped the last element in line 19, so now let's pop the first (0-th) element.\n",
    "        t.pop(0) \n",
    "\n",
    "    return None # I'm putting this here to remind you to not to return anything!"
   ]
  },
  {
   "cell_type": "code",
   "execution_count": 69,
   "metadata": {},
   "outputs": [],
   "source": [
    "t = []\n",
    "chop(t)"
   ]
  },
  {
   "cell_type": "code",
   "execution_count": 70,
   "metadata": {},
   "outputs": [
    {
     "data": {
      "text/plain": [
       "[]"
      ]
     },
     "execution_count": 70,
     "metadata": {},
     "output_type": "execute_result"
    }
   ],
   "source": [
    "t # t is... still the empty list. No surprise there!"
   ]
  },
  {
   "cell_type": "code",
   "execution_count": 73,
   "metadata": {},
   "outputs": [
    {
     "data": {
      "text/plain": [
       "[]"
      ]
     },
     "execution_count": 73,
     "metadata": {},
     "output_type": "execute_result"
    }
   ],
   "source": [
    "t=[1]\n",
    "chop(t)\n",
    "t"
   ]
  },
  {
   "cell_type": "code",
   "execution_count": 71,
   "metadata": {},
   "outputs": [
    {
     "data": {
      "text/plain": [
       "[]"
      ]
     },
     "execution_count": 71,
     "metadata": {},
     "output_type": "execute_result"
    }
   ],
   "source": [
    "t = [1,2]\n",
    "chop(t)\n",
    "t # Should still be empty"
   ]
  },
  {
   "cell_type": "code",
   "execution_count": 74,
   "metadata": {},
   "outputs": [
    {
     "data": {
      "text/plain": [
       "[2]"
      ]
     },
     "execution_count": 74,
     "metadata": {},
     "output_type": "execute_result"
    }
   ],
   "source": [
    "t = [1,2,3]\n",
    "chop(t)\n",
    "t # Should now just be list the list [2]"
   ]
  },
  {
   "cell_type": "code",
   "execution_count": 66,
   "metadata": {},
   "outputs": [
    {
     "data": {
      "text/plain": [
       "[2, 3]"
      ]
     },
     "execution_count": 66,
     "metadata": {},
     "output_type": "execute_result"
    }
   ],
   "source": [
    "t = [1,2,3,4]\n",
    "chop(t)\n",
    "t # Should now just be list the list [2,3]"
   ]
  },
  {
   "cell_type": "markdown",
   "metadata": {},
   "source": [
    "## Problem 5: Duplicates\n",
    "\n",
    "Write a function called `has_duplicates` that takes a list as its only argument and returns `True` if there is any element that appears more than once and `False` otherwise. It should not modify the original list."
   ]
  },
  {
   "cell_type": "code",
   "execution_count": 75,
   "metadata": {},
   "outputs": [],
   "source": [
    "# Note that this is not the most efficient solution to this problem.\n",
    "# We'll see a better (i.e., faster) solution when we talk about dictionaries.\n",
    "def has_duplicates( t ):\n",
    "    # We'll look at each element in the list and check if any later elements are equal to it.\n",
    "    for i in range(len(t)):\n",
    "        e = t[i] # Considering the i-th element\n",
    "        if e in t[(i+1):]: # Look at the rest of the list AFTER the i-th element.\n",
    "            return True # If e is in this list, then there's a duplicate.\n",
    "    # If we fell out of the for-loop, we must have never found a duplicate, so return False.\n",
    "    return False"
   ]
  },
  {
   "cell_type": "code",
   "execution_count": 82,
   "metadata": {},
   "outputs": [],
   "source": [
    "assert( has_duplicates([1,2,3,4,5,1]) ) # Remember, assert(expr) raises an error if expr is NOT true.\n",
    "assert( not has_duplicates([1,2,3,4,5]) )\n",
    "assert( not has_duplicates([]) ) # always important to check weird edge cases like the empty list!\n",
    "assert( has_duplicates([1,2,2,3]))\n",
    "assert( has_duplicates([2,2,3,4,5,5]))\n",
    "assert( has_duplicates([1,2,3,4,1]))"
   ]
  },
  {
   "cell_type": "code",
   "execution_count": 84,
   "metadata": {},
   "outputs": [
    {
     "data": {
      "text/plain": [
       "True"
      ]
     },
     "execution_count": 84,
     "metadata": {},
     "output_type": "execute_result"
    }
   ],
   "source": [
    "# Check it out! The way we wrote has_duplicates actually doesn't need t to be a list!\n",
    "# t just needs to support len() and indexing.\n",
    "# For example, strings support both of these!\n",
    "# We'll have lots more to say about this over the course of the semester.\n",
    "has_duplicates('tacocat')"
   ]
  },
  {
   "cell_type": "code",
   "execution_count": null,
   "metadata": {},
   "outputs": [],
   "source": []
  }
 ],
 "metadata": {
  "kernelspec": {
   "display_name": "Python 3 (ipykernel)",
   "language": "python",
   "name": "python3"
  },
  "language_info": {
   "codemirror_mode": {
    "name": "ipython",
    "version": 3
   },
   "file_extension": ".py",
   "mimetype": "text/x-python",
   "name": "python",
   "nbconvert_exporter": "python",
   "pygments_lexer": "ipython3",
   "version": "3.9.7"
  }
 },
 "nbformat": 4,
 "nbformat_minor": 2
}
